{
 "cells": [
  {
   "cell_type": "markdown",
   "metadata": {
    "slideshow": {
     "slide_type": "slide"
    }
   },
   "source": [
    "# A Brief Overview of Monte Carlo Simulation\n",
    "\n",
    "### Presenter: Demetrius Taylor"
   ]
  },
  {
   "cell_type": "markdown",
   "metadata": {
    "slideshow": {
     "slide_type": "slide"
    }
   },
   "source": [
    "## Outline\n",
    "1. History of Monte Carlo Simulation\n",
    "2. Mathematical Foundations\n",
    "3. Monte Carlo Variants\n",
    "4. Variance Reduction Methods\n",
    "5. Working Examples\n",
    "6. Conclusion"
   ]
  },
  {
   "cell_type": "markdown",
   "metadata": {
    "slideshow": {
     "slide_type": "slide"
    }
   },
   "source": [
    "# History of Monte Carlo Simulation"
   ]
  },
  {
   "cell_type": "markdown",
   "metadata": {
    "slideshow": {
     "slide_type": "subslide"
    }
   },
   "source": [
    "## Brief History (1 of 2)\n",
    "\n",
    "Monte Carlo Simulation was developed in the 1940's by physicist Stanislaw Ulam and mathematician John von Neumann\n",
    "\n",
    "Used to model model neutron diffusion for nuclear weapons development as part of the Manhattan Project during World War II\n",
    "\n",
    "Stanislaw Ulam | John von Neumann\n",
    "- | -\n",
    "<img src=\"ulam.jpeg\" width=\"700\" /> | <img src=\"vonneumann.jpg\" width=\"600\" />"
   ]
  },
  {
   "cell_type": "markdown",
   "metadata": {
    "slideshow": {
     "slide_type": "subslide"
    }
   },
   "source": [
    "## Brief History (2 of 2)\n",
    "\n",
    "The name was inspired by the Monte Carlo Casino in Monaco due to the method's reliance on random numbers\n",
    "\n",
    "\"Monaco on the French Riviera\" | \"Casino de Monte-Carlo (aka The Monte Carlo Casino)\"\n",
    "- | -\n",
    "![alt text](monaco.jpg) | ![alt text](montecarlo.jpg)"
   ]
  },
  {
   "cell_type": "markdown",
   "metadata": {
    "slideshow": {
     "slide_type": "slide"
    }
   },
   "source": [
    "# Mathematical Foundations"
   ]
  },
  {
   "cell_type": "markdown",
   "metadata": {
    "slideshow": {
     "slide_type": "subslide"
    }
   },
   "source": [
    "## Mathematical Foundations (1 of 4)\n",
    "\n",
    "When we run a Monte Carlo simulation we usually want to approximate an expected value\n",
    "\n",
    "$$\\mu = \\mathbb{E}[f(X)]$$\n",
    "\n",
    "We do this by drawing $n$ independent random samples $X_1, \\ldots, X_n$ from the distribution of $X$ and computing the sample mean\n",
    "\n",
    "$$\\hat{\\mu}_{n} = \\frac{1}{n} \\sum_{i=1}^n f(X_i) \\approx \\mathbb{E}[f(X)]$$\n",
    "\n",
    "Since we know from class that the expectation is basically an integral, any quantity expressible as an integral can be estimated this way"
   ]
  },
  {
   "cell_type": "markdown",
   "metadata": {
    "slideshow": {
     "slide_type": "subslide"
    }
   },
   "source": [
    "## Mathematical Foundations (2 of 4)\n",
    "\n",
    "The justification of Monte Carlo estimators is the Strong Law of Large Numbers (Kolmogorov, 1933)\n",
    "\n",
    "Let $(\\Omega,\\mathcal F,\\mathbb P)$ be a probability space and $f\\!:\\!\\Omega\\to\\mathbb R$ with $f\\in L^1$\n",
    "\n",
    "$$\\frac1n\\sum_{i=1}^n f(X_i) \\xrightarrow{\\text{a.s.}} \\mathbb{E}[f(X)]$$"
   ]
  },
  {
   "cell_type": "markdown",
   "metadata": {
    "slideshow": {
     "slide_type": "subslide"
    }
   },
   "source": [
    "## Mathematical Foundations (3 of 4)\n",
    "\n",
    "Additionally, since we use independent random samples that have finite non-zero variances, we know that the resulting distribution of our estimates will be approximately *normal*\n",
    "\n",
    "$$ X_i = X_1, X_2, \\dotsc \\qquad \\mathbb{E}[X_i] = \\mu \\qquad \\operatorname{Var}(X_i) = \\sigma^{2} \\in (0,\\infty)$$\n",
    "\n",
    "This will be the case regardless of what the underlaying distribution of $X$ is"
   ]
  },
  {
   "cell_type": "markdown",
   "metadata": {
    "slideshow": {
     "slide_type": "subslide"
    }
   },
   "source": [
    "## Mathematical Foundations (4 of 4)\n",
    "\n",
    "The justification that the resulting estimates will follow a normal distribution is the Central Limit Theorem (Laplace, 1810)\n",
    "\n",
    "Let $X_1, X_2, \\dotsc$ be independent, identically distributed random variables with\n",
    "\n",
    "$$\\mathbb{E}[X_i] = \\mu \\qquad \\operatorname{Var}(X_i) = \\sigma^{2} \\in (0,\\infty)$$\n",
    "\n",
    "If we define the standardized sum $Z_n$ then as $n \\to \\infty$\n",
    "\n",
    "$$Z_n = \\frac{\\,\\sum_{i=1}^{n} X_i - n\\mu}{\\sigma\\sqrt{n}} \\;\\xrightarrow{\\;\\mathcal{D}\\;}\\; \\mathcal{N}(0,1)$$\n"
   ]
  },
  {
   "cell_type": "markdown",
   "metadata": {
    "slideshow": {
     "slide_type": "slide"
    }
   },
   "source": [
    "# Monte Carlo Variants"
   ]
  },
  {
   "cell_type": "markdown",
   "metadata": {
    "slideshow": {
     "slide_type": "subslide"
    }
   },
   "source": [
    "## Monte Carlo Variants (1 of 6)\n",
    "### \"Crude\" Monte Carlo Simulation\n",
    "\n",
    "The most common type of Monte Carlo simulation is typically referred to as \"crude\" (aka \"simple\" or \"naive\") Monte Carlo simulation\n",
    "\n",
    "The goal if this variant is to approximate an expected value or an integral of the form\n",
    "\n",
    "$$\\mu \\;=\\; \\mathbb{E}_{X\\sim p}[f(X)] \\;=\\; \\int_{\\Omega} f(x)\\,p(x)\\,dx$$\n",
    "\n"
   ]
  },
  {
   "cell_type": "markdown",
   "metadata": {
    "slideshow": {
     "slide_type": "subslide"
    }
   },
   "source": [
    "## Monte Carlo Variants (2 of 6)\n",
    "\n",
    "This method us used when $\\mu$ is difficult or impossible to compute analytically\n",
    "\n",
    "It generates\n",
    "\n",
    "- Estimate: $\\hat{\\mu}_n$\n",
    "\n",
    "- Standard Error: $\\displaystyle \\frac{\\hat{\\sigma}}{\\sqrt{n}}$, where $\\hat{\\sigma}^2$ is the sample variance of $f(X_i)$"
   ]
  },
  {
   "cell_type": "markdown",
   "metadata": {
    "slideshow": {
     "slide_type": "subslide"
    }
   },
   "source": [
    "## Monte Carlo Variants (3 of 6)\n",
    "### Markov Chain Monte Carlo Simulation (MCMC)\n",
    "\n",
    "Markov‑Chain Monte Carlo is a family of algorithms for sampling randomly from a complicated probability distribution when you cannot draw independent samples directly\n",
    "\n",
    "It combines both\n",
    "\n",
    "1. Markov chains – a random walk whose next step depends only on the current state, not on the whole past\n",
    "\n",
    "2. Monte Carlo – estimating integrals or expectations using random samples"
   ]
  },
  {
   "cell_type": "markdown",
   "metadata": {
    "slideshow": {
     "slide_type": "subslide"
    }
   },
   "source": [
    "## Monte Carlo Variants (4 of 6)\n",
    "Two of the most famous and widely used MCMC algorithms are\n",
    "\n",
    "1. The Metropolis–Hastings algorithm\n",
    "\n",
    "$$P(x,y)=q(x,y) \\alpha(x,y) \\qquad \\alpha(x,y)=\\min{1,\\frac{\\pi(y)q(y,x)}{\\pi(x)q(x,y)}}$$\n",
    "\n",
    "\n",
    "2. Gibbs sampling\n",
    "\n",
    "$$X_{k}^{(t+1)} \\sim \\pi \\left( x_{k} | x_{−k}^{(t)} \\right)$$\n"
   ]
  },
  {
   "cell_type": "markdown",
   "metadata": {
    "slideshow": {
     "slide_type": "subslide"
    }
   },
   "source": [
    "## Monte Carlo Variants (5 of 6)\n",
    "### Sequential Monte Carlo Simulation (SMC)\n",
    "\n",
    "Sequential Monte Carlo (SMC), also called \"particle filtering\", is sort of like Monte Carlo *on the fly*\n",
    "\n",
    "Instead of drawing one big batch of random samples and keeping them forever, SMC keeps a \"cloud of particles\" that move and change weights as new information arrives\n",
    "\n",
    "At every time‑step the cloud is adjusted so that, as a group, the particles behave like random draws from the \"current\" probability distribution we care about"
   ]
  },
  {
   "cell_type": "markdown",
   "metadata": {
    "slideshow": {
     "slide_type": "subslide"
    }
   },
   "source": [
    "## Monte Carlo Variants (6 of 6)\n",
    "\n",
    "A typical SMC model\n",
    "\n",
    "$$\n",
    "\\begin{aligned}\n",
    "x_0 &\\sim p(x_0) &\\text{(initial state)}\\\\\n",
    "x_t &\\sim f(x_t\\mid x_{t-1}) &\\text{(state evolution)}\\\\\n",
    "y_t &\\sim g(y_t\\mid x_t) &\\text{(noisy observation)}\n",
    "\\end{aligned}\n",
    "$$\n",
    "\n",
    "For $i=1,\\dots,N$ particles\n",
    "\n",
    "$$\n",
    "w_t^{(i)} \\;=\\;\n",
    "w_{t-1}^{(i)}\\;\n",
    "\\frac{\\,g\\bigl(y_t\\mid x_t^{(i)}\\bigr)\\,f\\bigl(x_t^{(i)}\\mid x_{t-1}^{(i)}\\bigr)}\n",
    "     {q_t\\!\\bigl(x_t^{(i)}\\mid x_{0:t-1}^{(i)},y_{0:t}\\bigr)}\n",
    "$$"
   ]
  },
  {
   "cell_type": "markdown",
   "metadata": {
    "slideshow": {
     "slide_type": "slide"
    }
   },
   "source": [
    "# Variance Reduction Methods"
   ]
  },
  {
   "cell_type": "markdown",
   "metadata": {
    "slideshow": {
     "slide_type": "subslide"
    }
   },
   "source": [
    "## Variance Reduction Methods (1 of 5)\n",
    "\n",
    "The purpose of variance reductions methods is to essentially reduce $\\sigma^2$ without increasing $n$\n",
    "\n",
    "In essence, this provides you with either the same level of accuracy in your result by using far fewer samples or higher accuracy for the same cost\n",
    "\n",
    "Also, note that each technique is unbiased and independent of the others, as such you can often combine two or more different methods for extra \"power\"\n",
    "\n",
    "Overall, they yield faster convergence, tighter confidence intervals, and less computing time for the same precision\n",
    "\n",
    "There are four classic variance reduction techniques..."
   ]
  },
  {
   "cell_type": "markdown",
   "metadata": {
    "slideshow": {
     "slide_type": "subslide"
    }
   },
   "source": [
    "## Variance Reduction Methods (2 of 5)\n",
    "\n",
    "### 1. Antithetic variates\n",
    "\n",
    "Works by using pairs of negatively correlated samples so their errors cancel\n",
    "\n",
    "1. Generate a random number: $U\\sim\\text{Uniform}(0,1)$\n",
    "\n",
    "2. Create its “mirror”: $\\tilde U = 1-U$\n",
    "\n",
    "3. Evaluate both: $f(U),\\;f(\\tilde U)$\n",
    "\n",
    "4. Average them:\n",
    "\n",
    "   $$\n",
    "   \\hat{\\mu}_{\\text{anti}}=\\frac{f(U)+f(\\tilde U)}{2}.\n",
    "   $$\n",
    "\n",
    "Because $U$ and $1-U$ are *negatively correlated*, upward errors in one tend to be balanced by downward errors in the other, often halving the variance or better for monotone $f$\n",
    "\n",
    "An analogy would be if you guess too high on one coin‑flip and then guess low on its opposite and they sort of cancel each other out\n",
    "\n",
    "\n"
   ]
  },
  {
   "cell_type": "markdown",
   "metadata": {
    "slideshow": {
     "slide_type": "subslide"
    }
   },
   "source": [
    "## Variance Reduction Methods (3 of 5)\n",
    "\n",
    "### 2. Control variates\n",
    "\n",
    "Works by borrowing information from a *related quantity* whose mean you already know\n",
    "\n",
    "Suppose you can compute $\\mathbb{E}[Y]=\\nu$ exactly and $Y$ is correlated with $f(X)$\n",
    "\n",
    "1. Simulate pairs $(f(X_i),Y_i)$\n",
    "2. Form the *control‑variates estimator*\n",
    "\n",
    "$$\n",
    "\\hat{\\mu}_{\\text{cv}}\n",
    "\\;=\\;\n",
    "\\bar f\n",
    "\\;-\\;\n",
    "c\\,(\\bar Y-\\nu)\n",
    "\\qquad\n",
    "\\text{with } c^\\star=\\frac{\\operatorname{Cov}(f,Y)}{\\operatorname{Var}(Y)}\n",
    "$$\n",
    "\n",
    "Choosing $c=c^\\star$ gives the minimum variance\n",
    "\n",
    "$$\n",
    "\\operatorname{Var}(\\hat{\\mu}_{\\text{cv}})=\n",
    "\\bigl(1-\\rho^{2}\\bigr)\\frac{\\sigma^{2}}{n},\n",
    "$$\n",
    "\n",
    "where $\\rho$ is the correlation between $f$ and $Y$\n",
    "\n",
    "An analogy would be if you know today’s temperature exactly you can use that fact to correct a noisy thermometer reading\n",
    "\n"
   ]
  },
  {
   "cell_type": "markdown",
   "metadata": {
    "slideshow": {
     "slide_type": "subslide"
    }
   },
   "source": [
    "## Variance Reduction Methods (4 of 5)\n",
    "\n",
    "### 3. Importance sampling\n",
    "\n",
    "Works by sampling more often where $f$ is large and re‑weighting to stay unbiased\n",
    "\n",
    "\n"
   ]
  },
  {
   "cell_type": "markdown",
   "metadata": {
    "slideshow": {
     "slide_type": "slide"
    }
   },
   "source": [
    "## Variance Reduction Methods (5 of 5)\n",
    "\n",
    "### 4. Stratified or Latin hypercube sampling\n",
    "\n",
    "Works by forcing samples to *cover every region* of the input space evenly\n",
    "\n"
   ]
  },
  {
   "cell_type": "markdown",
   "metadata": {
    "slideshow": {
     "slide_type": "subslide"
    }
   },
   "source": [
    "## Variance Reduction Techniques\n",
    "- **Antithetic variates**\n",
    "- **Control variates**\n",
    "- **Importance sampling**\n",
    "- **Stratified / Latin hypercube sampling**\n",
    "- **Common random numbers**"
   ]
  },
  {
   "cell_type": "markdown",
   "metadata": {
    "slideshow": {
     "slide_type": "subslide"
    }
   },
   "source": [
    "## Basic Monte Carlo Algorithm\n",
    "1. Draw i.i.d. samples $X_1,\\dots,X_n$ from $p(x)$.\n",
    "2. Compute $f(X_i)$.\n",
    "3. Return estimator $\\hat\\mu_n = \\frac1n\\sum f(X_i)$."
   ]
  },
  {
   "cell_type": "markdown",
   "metadata": {
    "slideshow": {
     "slide_type": "slide"
    }
   },
   "source": [
    "## Example 1: Estimating $\\pi$ by Dart‑Throwing"
   ]
  },
  {
   "cell_type": "code",
   "execution_count": 1,
   "metadata": {
    "slideshow": {
     "slide_type": "subslide"
    }
   },
   "outputs": [
    {
     "name": "stdout",
     "output_type": "stream",
     "text": [
      "     10: pi ≈ 3.200000\n",
      "    100: pi ≈ 3.080000\n",
      "   1000: pi ≈ 3.120000\n",
      "  10000: pi ≈ 3.132800\n",
      " 100000: pi ≈ 3.134040\n",
      "1000000: pi ≈ 3.140028\n"
     ]
    }
   ],
   "source": [
    "import numpy as np\n",
    "\n",
    "def mc_pi(n_samples=100_000):\n",
    "    x = np.random.rand(n_samples)\n",
    "    y = np.random.rand(n_samples)\n",
    "    return 4 * np.mean(x**2 + y**2 < 1)\n",
    "\n",
    "for n in [10**k for k in range(1, 7)]:\n",
    "    print(f\"{n:>7}: pi ≈ {mc_pi(n):.6f}\")"
   ]
  },
  {
   "cell_type": "markdown",
   "metadata": {
    "slideshow": {
     "slide_type": "subslide"
    }
   },
   "source": [
    "### Convergence Plot"
   ]
  },
  {
   "cell_type": "code",
   "execution_count": 2,
   "metadata": {
    "slideshow": {
     "slide_type": "fragment"
    }
   },
   "outputs": [
    {
     "data": {
      "image/png": "[encoded data removed]",
      "text/plain": [
       "<Figure size 640x480 with 1 Axes>"
      ]
     },
     "metadata": {},
     "output_type": "display_data"
    }
   ],
   "source": [
    "import numpy as np\n",
    "import matplotlib.pyplot as plt\n",
    "\n",
    "n_values = np.logspace(1, 6, 60, dtype=int)\n",
    "errors = [abs(mc_pi(n) - np.pi) for n in n_values]\n",
    "plt.loglog(n_values, errors)\n",
    "plt.xlabel(\"Samples\")\n",
    "plt.ylabel(\"|π̂ − π|\")\n",
    "plt.title(\"Convergence of Crude Monte Carlo\")\n",
    "plt.show()"
   ]
  },
  {
   "cell_type": "markdown",
   "metadata": {
    "slideshow": {
     "slide_type": "slide"
    }
   },
   "source": [
    "## Example 2: Antithetic Variates"
   ]
  },
  {
   "cell_type": "code",
   "execution_count": 3,
   "metadata": {
    "slideshow": {
     "slide_type": "subslide"
    }
   },
   "outputs": [
    {
     "name": "stdout",
     "output_type": "stream",
     "text": [
      "     10: crude 2.800000    antithetic 3.200000\n",
      "    100: crude 3.000000    antithetic 2.920000\n",
      "   1000: crude 3.076000    antithetic 3.152000\n",
      "  10000: crude 3.159600    antithetic 3.142800\n",
      " 100000: crude 3.140000    antithetic 3.149320\n",
      "1000000: crude 3.141460    antithetic 3.139708\n"
     ]
    }
   ],
   "source": [
    "def mc_pi_antithetic(n_samples=100_000):\n",
    "    half = n_samples // 2\n",
    "    x = np.random.rand(half)\n",
    "    y = np.random.rand(half)\n",
    "    x2 = 1 - x\n",
    "    y2 = 1 - y\n",
    "    inside = np.concatenate(((x**2 + y**2) < 1, (x2**2 + y2**2) < 1))\n",
    "    return 4 * inside.mean()\n",
    "\n",
    "for n in [10**k for k in range(1, 7)]:\n",
    "    crude = mc_pi(n)\n",
    "    anti = mc_pi_antithetic(n)\n",
    "    print(f\"{n:>7}: crude {crude:.6f}    antithetic {anti:.6f}\")"
   ]
  },
  {
   "cell_type": "code",
   "execution_count": 4,
   "metadata": {
    "slideshow": {
     "slide_type": "fragment"
    }
   },
   "outputs": [
    {
     "data": {
      "image/png": "[encoded data removed]",
      "text/plain": [
       "<Figure size 640x480 with 1 Axes>"
      ]
     },
     "metadata": {},
     "output_type": "display_data"
    }
   ],
   "source": [
    "n_values = np.logspace(1, 6, 60, dtype=int)\n",
    "errors_crude = [abs(mc_pi(n) - np.pi) for n in n_values]\n",
    "errors_anti = [abs(mc_pi_antithetic(n) - np.pi) for n in n_values]\n",
    "import matplotlib.pyplot as plt\n",
    "plt.loglog(n_values, errors_crude, label=\"Crude\")\n",
    "plt.loglog(n_values, errors_anti, label=\"Antithetic\")\n",
    "plt.xlabel(\"Samples\")\n",
    "plt.ylabel(\"Absolute Error\")\n",
    "plt.title(\"Variance Reduction with Antithetic Variates\")\n",
    "plt.legend()\n",
    "plt.show()"
   ]
  },
  {
   "cell_type": "markdown",
   "metadata": {
    "slideshow": {
     "slide_type": "slide"
    }
   },
   "source": [
    "## Framework: Homework Example 4b"
   ]
  },
  {
   "cell_type": "markdown",
   "metadata": {
    "slideshow": {
     "slide_type": "subslide"
    }
   },
   "source": [
    "*(Insert problem statement here)*\n",
    "\n",
    "### Template Code"
   ]
  },
  {
   "cell_type": "code",
   "execution_count": null,
   "metadata": {
    "slideshow": {
     "slide_type": "fragment"
    }
   },
   "outputs": [],
   "source": [
    "# MC solution template for Homework 4b\n",
    "import numpy as np\n",
    "# TODO: define problem-specific function f(x)\n",
    "# TODO: sample from distribution p(x)\n",
    "# TODO: compute estimator and confidence interval\n"
   ]
  },
  {
   "cell_type": "markdown",
   "metadata": {
    "slideshow": {
     "slide_type": "slide"
    }
   },
   "source": [
    "## Framework: Homework Example 4c"
   ]
  },
  {
   "cell_type": "code",
   "execution_count": null,
   "metadata": {
    "slideshow": {
     "slide_type": "subslide"
    }
   },
   "outputs": [],
   "source": [
    "# MC solution template for Homework 4c\n",
    "# TODO: implement problem-specific sampling and estimation\n"
   ]
  },
  {
   "cell_type": "markdown",
   "metadata": {
    "slideshow": {
     "slide_type": "slide"
    }
   },
   "source": [
    "## Framework: Homework Example 4d"
   ]
  },
  {
   "cell_type": "code",
   "execution_count": null,
   "metadata": {
    "slideshow": {
     "slide_type": "subslide"
    }
   },
   "outputs": [],
   "source": [
    "# MC solution template for Homework 4d\n",
    "# TODO: implement problem-specific sampling and estimation\n"
   ]
  },
  {
   "cell_type": "markdown",
   "metadata": {
    "slideshow": {
     "slide_type": "slide"
    }
   },
   "source": [
    "## Conclusion\n",
    "- MC turns integration into averaging random draws.\n",
    "- Converges at $n^{-1/2}$; variance reduction & GPUs mitigate computational cost.\n",
    "- Measure‑theoretic probability provides rigorous guarantees.\n",
    "- Applications span physics, finance, risk analysis, and beyond."
   ]
  },
  {
   "cell_type": "markdown",
   "metadata": {
    "slideshow": {
     "slide_type": "slide"
    }
   },
   "source": [
    "## References\n",
    "- Metropolis, N. & Ulam, S. (1949). *The Monte Carlo Method*. JASA.\n",
    "- Kalos, M. H. & Whitlock, P. A. (2008). *Monte Carlo Methods*. Wiley.\n",
    "- Robert, C. P. & Casella, G. (2004). *Monte Carlo Statistical Methods*. Springer.\n",
    "- Glasserman, P. (2003). *Monte Carlo Methods in Financial Engineering*. Springer.\n",
    "- Owen, A. B. (2013). *Monte Carlo Theory, Methods and Examples*.\n",
    "- NVIDIA Corporation (2021). *CUDA Programming Guide*."
   ]
  }
 ],
 "metadata": {
  "celltoolbar": "Slideshow",
  "kernelspec": {
   "display_name": "Python 3 (ipykernel)",
   "language": "python",
   "name": "python3"
  },
  "language_info": {
   "codemirror_mode": {
    "name": "ipython",
    "version": 3
   },
   "file_extension": ".py",
   "mimetype": "text/x-python",
   "name": "python",
   "nbconvert_exporter": "python",
   "pygments_lexer": "ipython3",
   "version": "3.12.10"
  },
  "livereveal": {
   "autolaunch": true,
   "scroll": true
  }
 },
 "nbformat": 4,
 "nbformat_minor": 2
}
